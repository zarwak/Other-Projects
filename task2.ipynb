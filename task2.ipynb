{
 "cells": [
  {
   "cell_type": "markdown",
   "metadata": {},
   "source": [
    "# TASK1"
   ]
  },
  {
   "cell_type": "markdown",
   "metadata": {},
   "source": [
    "### PART A"
   ]
  },
  {
   "cell_type": "code",
   "execution_count": 25,
   "metadata": {},
   "outputs": [
    {
     "name": "stdout",
     "output_type": "stream",
     "text": [
      "System Time (Seconds since Epoch): 1743252547.5634248\n"
     ]
    }
   ],
   "source": [
    "import os\n",
    "import time\n",
    "\n",
    "try:\n",
    "    import psutil  # Used for system uptime (if available)\n",
    "except ImportError:\n",
    "    psutil = None  # Handle cases where psutil is not installed\n",
    "\n",
    "# Retrieve System Time Without time.time()\n",
    "def get_system_time():\n",
    "    if psutil:\n",
    "        return psutil.boot_time() + time.perf_counter()\n",
    "    else:\n",
    "        return os.stat('/proc/uptime').st_mtime if os.path.exists('/proc/uptime') else time.mktime(time.localtime())\n",
    "print(\"System Time (Seconds since Epoch):\", get_system_time())"
   ]
  },
  {
   "cell_type": "markdown",
   "metadata": {},
   "source": [
    "### PART B"
   ]
  },
  {
   "cell_type": "code",
   "execution_count": 26,
   "metadata": {},
   "outputs": [
    {
     "name": "stdout",
     "output_type": "stream",
     "text": [
      "Current Date and Time: 2025-03-29 17:48:42\n"
     ]
    }
   ],
   "source": [
    "# Retrieve Formatted Date Without datetime.now()\n",
    "def get_formatted_date():\n",
    "    struct_time = time.localtime()\n",
    "    return time.strftime(\"%Y-%m-%d %H:%M:%S\", struct_time)\n",
    "print(\"Current Date and Time:\", get_formatted_date())"
   ]
  },
  {
   "cell_type": "markdown",
   "metadata": {},
   "source": [
    "### PART C"
   ]
  },
  {
   "cell_type": "code",
   "execution_count": 27,
   "metadata": {},
   "outputs": [
    {
     "name": "stdout",
     "output_type": "stream",
     "text": [
      "Is 2024 a Leap Year? True\n",
      "Is 2023 a Leap Year? False\n"
     ]
    }
   ],
   "source": [
    "#Check If a Year is a Leap Year Without calendar.isleap()\n",
    "def is_leap_year(year):\n",
    "    return (year % 4 == 0 and year % 100 != 0) or (year % 400 == 0)\n",
    "print(\"Is 2024 a Leap Year?\", is_leap_year(2024))  # Expected: True\n",
    "print(\"Is 2023 a Leap Year?\", is_leap_year(2023))  # Expected: False"
   ]
  },
  {
   "cell_type": "markdown",
   "metadata": {},
   "source": [
    "### PART D"
   ]
  },
  {
   "cell_type": "code",
   "execution_count": 28,
   "metadata": {},
   "outputs": [
    {
     "name": "stdout",
     "output_type": "stream",
     "text": [
      "Current Username: Mg\n"
     ]
    }
   ],
   "source": [
    "import os\n",
    "import getpass\n",
    "\n",
    "def get_username():\n",
    "    \"\"\"Retrieve the current system username without using os.getlogin()\"\"\"\n",
    "    return os.environ.get(\"USERNAME\") or os.environ.get(\"USER\") or getpass.getuser()\n",
    "\n",
    "# Test the function\n",
    "print(\"Current Username:\", get_username())"
   ]
  },
  {
   "cell_type": "markdown",
   "metadata": {},
   "source": [
    "### PART E"
   ]
  },
  {
   "cell_type": "code",
   "execution_count": 29,
   "metadata": {},
   "outputs": [
    {
     "name": "stdout",
     "output_type": "stream",
     "text": [
      "Webpage Content: <!doctype html>\n",
      "<html>\n",
      "<head>\n",
      "    <title>Example Domain</title>\n",
      "\n",
      "    <meta charset=\"utf-8\" />\n",
      "    <meta http-equiv=\"Content-type\" content=\"text/html; charset=utf-8\" />\n",
      "    <meta name=\"viewport\" content=\"width=device-width, initial-scale=1\" />\n",
      "    <style type=\"text/css\">\n",
      "    body {\n",
      "        background-color: #f0f0f2;\n",
      "        margin: 0;\n",
      "        padding: 0;\n",
      "        font-family: -apple-system, system-ui, BlinkMacSystemFont, \"Segoe UI\", \"Open Sans\", \"Helvetica Neue\", Helvetica, Arial, sans-serif;\n",
      "    \n"
     ]
    }
   ],
   "source": [
    "import http.client\n",
    "\n",
    "def fetch_webpage(url):\n",
    "    try:\n",
    "        # Extract hostname and path\n",
    "        if \"://\" in url:\n",
    "            url = url.split(\"://\")[1]\n",
    "        host, path = url.split(\"/\", 1) if \"/\" in url else (url, \"\")\n",
    "\n",
    "        # Establish connection (HTTP only)\n",
    "        conn = http.client.HTTPConnection(host)\n",
    "        conn.request(\"GET\", f\"/{path}\")\n",
    "        response = conn.getresponse()\n",
    "        \n",
    "        # Read and decode response\n",
    "        return response.read().decode()\n",
    "\n",
    "    except Exception as e:\n",
    "        return f\"Error fetching webpage: {e}\"\n",
    "\n",
    "# Test the function\n",
    "web_content = fetch_webpage(\"example.com\")\n",
    "print(\"Webpage Content:\", web_content[:500])  # Print first 500 characters for preview"
   ]
  },
  {
   "cell_type": "markdown",
   "metadata": {},
   "source": [
    "# TASK 2"
   ]
  },
  {
   "cell_type": "markdown",
   "metadata": {},
   "source": [
    "### PART A"
   ]
  },
  {
   "cell_type": "code",
   "execution_count": 30,
   "metadata": {},
   "outputs": [
    {
     "name": "stdout",
     "output_type": "stream",
     "text": [
      "Valid Transactions: [150, 300, 450, 100]\n"
     ]
    }
   ],
   "source": [
    "transactions = [150, -20, \"error\", 300, 450, \"invalid\", 100]\n",
    "\n",
    "def filter_valid_transactions(transactions):\n",
    "    \"\"\"Filters out invalid transactions (negative values & non-numeric).\"\"\"\n",
    "    return list(filter(lambda x: isinstance(x, (int, float)) and x >= 0, transactions))\n",
    "\n",
    "# Test\n",
    "valid_transactions = filter_valid_transactions(transactions)\n",
    "print(\"Valid Transactions:\", valid_transactions)"
   ]
  },
  {
   "cell_type": "markdown",
   "metadata": {},
   "source": [
    "### PART B"
   ]
  },
  {
   "cell_type": "code",
   "execution_count": 31,
   "metadata": {},
   "outputs": [
    {
     "name": "stdout",
     "output_type": "stream",
     "text": [
      "Transactions After Tax: [150, 345.0, 517.5, 100]\n"
     ]
    }
   ],
   "source": [
    "def apply_tax(transactions):\n",
    "    \"\"\"Applies 15% tax to transactions above $200 using map().\"\"\"\n",
    "    return list(map(lambda x: x * 1.15 if x > 200 else x, transactions))\n",
    "\n",
    "# Test\n",
    "taxed_transactions = apply_tax(valid_transactions)\n",
    "print(\"Transactions After Tax:\", taxed_transactions)"
   ]
  },
  {
   "cell_type": "markdown",
   "metadata": {},
   "source": [
    "### PART C"
   ]
  },
  {
   "cell_type": "code",
   "execution_count": 32,
   "metadata": {},
   "outputs": [
    {
     "name": "stdout",
     "output_type": "stream",
     "text": [
      "Categorized Transactions: {'Small': [150, 100], 'Medium': [345.0], 'Large': [517.5]}\n"
     ]
    }
   ],
   "source": [
    "def categorize_transactions(transactions):\n",
    "    \"\"\"Categorizes transactions into Small, Medium, and Large.\"\"\"\n",
    "    categories = {\n",
    "        \"Small\": list(filter(lambda x: x < 200, transactions)),\n",
    "        \"Medium\": list(filter(lambda x: 200 <= x <= 500, transactions)),\n",
    "        \"Large\": list(filter(lambda x: x > 500, transactions))\n",
    "    }\n",
    "    return categories\n",
    "\n",
    "# Test\n",
    "categorized_transactions = categorize_transactions(taxed_transactions)\n",
    "print(\"Categorized Transactions:\", categorized_transactions)"
   ]
  },
  {
   "cell_type": "markdown",
   "metadata": {},
   "source": [
    "# TASK 3"
   ]
  },
  {
   "cell_type": "markdown",
   "metadata": {},
   "source": [
    "### PART A"
   ]
  },
  {
   "cell_type": "code",
   "execution_count": 33,
   "metadata": {},
   "outputs": [
    {
     "name": "stdout",
     "output_type": "stream",
     "text": [
      "File Contents:\n",
      " Error reading file: [Errno 2] No such file or directory: 'classified.txt'\n"
     ]
    }
   ],
   "source": [
    "from pathlib import Path\n",
    "\n",
    "def read_file(file_path):\n",
    "    \"\"\"Read file contents without using open()\"\"\"\n",
    "    try:\n",
    "        return Path(file_path).read_text()\n",
    "    except Exception as e:\n",
    "        return f\"Error reading file: {e}\"\n",
    "\n",
    "# Test\n",
    "file_content = read_file(\"classified.txt\")\n",
    "print(\"File Contents:\\n\", file_content)"
   ]
  },
  {
   "cell_type": "markdown",
   "metadata": {},
   "source": [
    "### PART B"
   ]
  },
  {
   "cell_type": "code",
   "execution_count": 34,
   "metadata": {},
   "outputs": [],
   "source": [
    "from pathlib import Path\n",
    "\n",
    "def get_file_metadata(file_path):\n",
    "    \"\"\"Retrieve file size and last modified time without os.stat()\"\"\"\n",
    "    try:\n",
    "        file = Path(file_path)\n",
    "        file_size = file.stat().st_size  # File size in bytes\n",
    "        last_modified = file.stat().st_mtime  # Last modified timestamp\n",
    "        return {\"size\": file_size, \"last_modified\": last_modified}\n",
    "    except Exception as e:\n",
    "        return f\"Error retrieving metadata: {e}\""
   ]
  },
  {
   "cell_type": "markdown",
   "metadata": {},
   "source": [
    "### PART C"
   ]
  },
  {
   "cell_type": "code",
   "execution_count": 35,
   "metadata": {},
   "outputs": [],
   "source": [
    "import urllib.request\n",
    "\n",
    "def download_image(url, save_path=\"downloaded_image.jpg\"):\n",
    "    \"\"\"Download an image from a URL using urllib\"\"\"\n",
    "    try:\n",
    "        urllib.request.urlretrieve(url, save_path)\n",
    "        return f\"Image downloaded successfully: {save_path}\"\n",
    "    except Exception as e:\n",
    "        return f\"Error downloading image: {e}\"\n",
    "\n",
    "\n",
    "#image_url = \"https://www.example.com/sample.jpg\"  # Replace with a real image URL \n",
    "#print(download_image(image_url))"
   ]
  },
  {
   "cell_type": "markdown",
   "metadata": {},
   "source": [
    "# TASK 4"
   ]
  },
  {
   "cell_type": "markdown",
   "metadata": {},
   "source": [
    "### PART A"
   ]
  },
  {
   "cell_type": "code",
   "execution_count": 36,
   "metadata": {},
   "outputs": [
    {
     "name": "stdout",
     "output_type": "stream",
     "text": [
      "Error: Invalid input type.\n"
     ]
    }
   ],
   "source": [
    "class DivisionError(Exception):\n",
    "    \"\"\"Custom exception for division errors.\"\"\"\n",
    "    pass\n",
    "\n",
    "def safe_divide(numbers, divisor):\n",
    "    \"\"\"Attempts to divide numbers by a divisor with error handling.\"\"\"\n",
    "    try:\n",
    "        if divisor == 0:\n",
    "            raise DivisionError(\"Error: Division by zero is not allowed.\")\n",
    "        return [num / divisor for num in numbers]\n",
    "    \n",
    "    except TypeError as e:\n",
    "        raise DivisionError(\"Error: Invalid input type.\") from e\n",
    "    \n",
    "    except Exception as e:\n",
    "        raise DivisionError(\"Unexpected error occurred.\") from e\n",
    "\n",
    "# Test\n",
    "try:\n",
    "    print(safe_divide([10, 20, \"error\", 40], 2))  # Should raise an error\n",
    "except Exception as e:\n",
    "    print(e)"
   ]
  },
  {
   "cell_type": "code",
   "execution_count": 37,
   "metadata": {},
   "outputs": [
    {
     "name": "stdout",
     "output_type": "stream",
     "text": [
      "[5.0, 10.0, 20.0]\n",
      "An error occurred. Check error_log.txt for details.\n"
     ]
    }
   ],
   "source": [
    "import logging\n",
    "from functools import wraps\n",
    "\n",
    "# Configure logging\n",
    "logging.basicConfig(filename=\"error_log.txt\", level=logging.ERROR, format=\"%(asctime)s - %(message)s\")\n",
    "\n",
    "def log_exceptions(func):\n",
    "    \"\"\"Decorator to log exceptions in a function.\"\"\"\n",
    "    @wraps(func)\n",
    "    def wrapper(*args, **kwargs):\n",
    "        try:\n",
    "            return func(*args, **kwargs)\n",
    "        except Exception as e:\n",
    "            error_message = f\"Function: {func.__name__}, Error: {type(e).__name__}, Message: {e}\"\n",
    "            logging.error(error_message)\n",
    "            print(\"An error occurred. Check error_log.txt for details.\")\n",
    "            raise  # Re-raise the exception after logging\n",
    "    return wrapper\n",
    "\n",
    "# Apply decorator to safe_divide\n",
    "@log_exceptions\n",
    "def safe_divide(numbers, divisor):\n",
    "    \"\"\"Attempts to divide numbers by a divisor with error handling.\"\"\"\n",
    "    if divisor == 0:\n",
    "        raise ZeroDivisionError(\"Error: Division by zero is not allowed.\")\n",
    "    \n",
    "    return [num / divisor for num in numbers if isinstance(num, (int, float))]  # Filter out non-numeric values\n",
    "\n",
    "# Test with logging\n",
    "try:\n",
    "    print(safe_divide([10, 20, \"error\", 40], 2))  # \"error\" is ignored\n",
    "    print(safe_divide([10, 20, 30], 0))  # Logs and raises ZeroDivisionError\n",
    "except Exception:\n",
    "    pass"
   ]
  },
  {
   "cell_type": "code",
   "execution_count": 38,
   "metadata": {},
   "outputs": [
    {
     "name": "stdout",
     "output_type": "stream",
     "text": [
      "An error occurred. Check error_log.txt for details.\n"
     ]
    }
   ],
   "source": [
    "#PART  \n",
    "import logging\n",
    "from functools import wraps\n",
    "\n",
    "# Configure logging\n",
    "logging.basicConfig(filename=\"error_log.txt\", level=logging.ERROR, format=\"%(asctime)s - %(message)s\")\n",
    "\n",
    "def log_exceptions(func):\n",
    "    \"\"\"Decorator to log exceptions in a function.\"\"\"\n",
    "    @wraps(func)\n",
    "    def wrapper(*args, **kwargs):\n",
    "        try:\n",
    "            return func(*args, **kwargs)\n",
    "        except Exception as e:\n",
    "            error_message = f\"Function: {func.__name__}, Error: {type(e).__name__}, Message: {e}\"\n",
    "            logging.error(error_message)\n",
    "            print(\"An error occurred. Check error_log.txt for details.\")\n",
    "            raise\n",
    "    return wrapper\n",
    "\n",
    "# Apply decorator to safe_divide\n",
    "@log_exceptions\n",
    "def safe_divide(numbers, divisor):\n",
    "    \"\"\"Attempts to divide numbers by a divisor with error handling.\"\"\"\n",
    "    if divisor == 0:\n",
    "        raise DivisionError(\"Error: Division by zero is not allowed.\")\n",
    "    return [num / divisor for num in numbers]\n",
    "\n",
    "# Test with logging\n",
    "try:\n",
    "    print(safe_divide([10, 20, \"error\", 40], 2))  # Logs and raises error\n",
    "except Exception:\n",
    "    pass"
   ]
  },
  {
   "cell_type": "markdown",
   "metadata": {},
   "source": [
    "# TASK 5"
   ]
  },
  {
   "cell_type": "markdown",
   "metadata": {},
   "source": [
    "### PART A"
   ]
  },
  {
   "cell_type": "code",
   "execution_count": 39,
   "metadata": {},
   "outputs": [],
   "source": [
    "import random\n",
    "import string\n",
    "\n",
    "def generate_secure_id():\n",
    "    \"\"\"Generate a random alphanumeric string of length 10.\"\"\"\n",
    "    return ''.join(random.choices(string.ascii_letters + string.digits, k=10))"
   ]
  },
  {
   "cell_type": "code",
   "execution_count": 40,
   "metadata": {},
   "outputs": [
    {
     "name": "stdout",
     "output_type": "stream",
     "text": [
      "Current Directory: c:\\Users\\Mg\\OneDrive\\Documents\\GitHub\\Api_Generator\n",
      "Existing Files: ['.git', '.gitattributes', '.gitignore', '.vscode', 'Api_Generator', 'App.js', 'config', 'cybertools', 'error_log.txt', 'node_modules', 'package-lock.json', 'package.json', 'postgres', 'README.md', 'routes', 'server.js', 'services', 'sheets_services', 'unification']\n"
     ]
    }
   ],
   "source": [
    "import os\n",
    "print(\"Current Directory:\", os.getcwd())  # Print the current directory\n",
    "print(\"Existing Files:\", os.listdir())    # List all files and folders"
   ]
  },
  {
   "cell_type": "code",
   "execution_count": 41,
   "metadata": {},
   "outputs": [],
   "source": [
    "import os\n",
    "\n",
    "# Create the cybertools package folder if it doesn't exist\n",
    "if not os.path.exists(\"cybertools\"):\n",
    "    os.mkdir(\"cybertools\")\n",
    "    \n",
    "# Create an empty __init__.py file to make it a package\n",
    "with open(\"cybertools/__init__.py\", \"w\") as f:\n",
    "    pass  # Empty file"
   ]
  },
  {
   "cell_type": "code",
   "execution_count": 42,
   "metadata": {},
   "outputs": [
    {
     "name": "stdout",
     "output_type": "stream",
     "text": [
      "✅ File 'cybertools/sysinfo.py' created successfully!\n",
      "✅ File 'cybertools/security.py' created successfully!\n"
     ]
    }
   ],
   "source": [
    "file_path = \"cybertools/sysinfo.py\"\n",
    "\n",
    "# Manually create sysinfo.py\n",
    "with open(file_path, \"w\") as f:\n",
    "    f.write('''\n",
    "import platform\n",
    "\n",
    "def get_os_version():\n",
    "    \"\"\"Retrieve the OS version.\"\"\"\n",
    "    return f\"{platform.system()} {platform.release()}\"\n",
    "''')\n",
    "\n",
    "print(f\"✅ File '{file_path}' created successfully!\")\n",
    "file_path = \"cybertools/security.py\"\n",
    "\n",
    "# Manually create security.py\n",
    "with open(file_path, \"w\") as f:\n",
    "    f.write('''\n",
    "def encrypt_message(message):\n",
    "    \"\"\"Encrypt a message by reversing it.\"\"\"\n",
    "    return message[::-1]\n",
    "''')\n",
    "\n",
    "print(f\"✅ File '{file_path}' created successfully!\")"
   ]
  },
  {
   "cell_type": "code",
   "execution_count": 43,
   "metadata": {},
   "outputs": [
    {
     "name": "stdout",
     "output_type": "stream",
     "text": [
      "OS Version: Windows 11\n",
      "Encrypted Message: terceSpoT\n"
     ]
    }
   ],
   "source": [
    "import cybertools.sysinfo  # Import sysinfo module\n",
    "import cybertools.security  # Import security module\n",
    "\n",
    "# ✅ Retrieve OS details\n",
    "os_version = cybertools.sysinfo.get_os_version()\n",
    "print(\"OS Version:\", os_version)\n",
    "\n",
    "# ✅ Encrypt a message\n",
    "message = \"TopSecret\"\n",
    "encrypted_message = cybertools.security.encrypt_message(message)\n",
    "print(\"Encrypted Message:\", encrypted_message)"
   ]
  },
  {
   "cell_type": "markdown",
   "metadata": {},
   "source": [
    "### PART B"
   ]
  },
  {
   "cell_type": "code",
   "execution_count": 44,
   "metadata": {},
   "outputs": [
    {
     "name": "stdout",
     "output_type": "stream",
     "text": [
      "Overwriting cybertools/sysinfo.py\n"
     ]
    }
   ],
   "source": [
    "%%writefile cybertools/sysinfo.py\n",
    "\n",
    "import platform\n",
    "\n",
    "def get_os_version():\n",
    "    \"\"\"Retrieve the OS version.\"\"\"\n",
    "    return f\"{platform.system()} {platform.release()}\""
   ]
  },
  {
   "cell_type": "code",
   "execution_count": 45,
   "metadata": {},
   "outputs": [
    {
     "name": "stdout",
     "output_type": "stream",
     "text": [
      "Overwriting cybertools/__init__.py\n"
     ]
    }
   ],
   "source": [
    "%%writefile cybertools/__init__.py\n",
    "# This file marks 'cybertools' as a package"
   ]
  },
  {
   "cell_type": "code",
   "execution_count": 46,
   "metadata": {},
   "outputs": [
    {
     "name": "stdout",
     "output_type": "stream",
     "text": [
      "OS Version: Windows 11\n",
      "Encrypted Message: terceSpoT\n"
     ]
    }
   ],
   "source": [
    "import cybertools.sysinfo\n",
    "import cybertools.security\n",
    "\n",
    "# Retrieve OS details\n",
    "os_version = cybertools.sysinfo.get_os_version()\n",
    "print(\"OS Version:\", os_version)\n",
    "\n",
    "# Encrypt a message\n",
    "message = \"TopSecret\"\n",
    "encrypted_message = cybertools.security.encrypt_message(message)\n",
    "print(\"Encrypted Message:\", encrypted_message)"
   ]
  }
 ],
 "metadata": {
  "kernelspec": {
   "display_name": "Python 3",
   "language": "python",
   "name": "python3"
  },
  "language_info": {
   "codemirror_mode": {
    "name": "ipython",
    "version": 3
   },
   "file_extension": ".py",
   "mimetype": "text/x-python",
   "name": "python",
   "nbconvert_exporter": "python",
   "pygments_lexer": "ipython3",
   "version": "3.12.5"
  }
 },
 "nbformat": 4,
 "nbformat_minor": 2
}
