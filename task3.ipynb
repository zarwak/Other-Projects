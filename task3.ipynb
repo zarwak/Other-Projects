{
 "cells": [
  {
   "cell_type": "markdown",
   "id": "6d15a517",
   "metadata": {},
   "source": [
    "### Q1.Write a Python program that reads a CSV file (data.csv) and converts it into a dictionary where the keys are the column headers and the values are lists of column data."
   ]
  },
  {
   "cell_type": "code",
   "execution_count": 55,
   "id": "1b1b8fc4",
   "metadata": {},
   "outputs": [],
   "source": [
    "import csv\n",
    "\n",
    "def csv_to_dict(filename):\n",
    "    with open(filename, 'r') as file:\n",
    "        reader = csv.DictReader(file)\n",
    "        result = {field: [] for field in reader.fieldnames}\n",
    "        for row in reader:\n",
    "            for field in reader.fieldnames:\n",
    "                result[field].append(row[field])\n",
    "    return result"
   ]
  },
  {
   "cell_type": "markdown",
   "id": "e7a4bf9c",
   "metadata": {},
   "source": [
    "### Q2.Create a Python script that appends user input to a log file (log.txt) with a timestamp."
   ]
  },
  {
   "cell_type": "code",
   "execution_count": 56,
   "id": "b0631b7b",
   "metadata": {},
   "outputs": [],
   "source": [
    "from datetime import datetime\n",
    "\n",
    "def append_log(user_input, filename='log.txt'):\n",
    "    timestamp = datetime.now().strftime('%Y-%m-%d %H:%M:%S')\n",
    "    with open(filename, 'a') as file:\n",
    "        file.write(f\"[{timestamp}] - {user_input}\\n\")\n"
   ]
  },
  {
   "cell_type": "markdown",
   "id": "a7c97952",
   "metadata": {},
   "source": [
    "### Q3.Merge two text files alternately line by line into a third file.\n"
   ]
  },
  {
   "cell_type": "code",
   "execution_count": 57,
   "id": "c453462c",
   "metadata": {},
   "outputs": [],
   "source": [
    "from itertools import zip_longest\n",
    "\n",
    "def merge_files(file1, file2, output):\n",
    "    with open(file1) as f1, open(file2) as f2, open(output, 'w') as fout:\n",
    "        for line1, line2 in zip_longest(f1, f2, fillvalue=''):\n",
    "            fout.write(line1)\n",
    "            fout.write(line2)\n",
    "\n",
    "# merge_files('file1.txt', 'file2.txt', 'merged.txt')\n"
   ]
  },
  {
   "cell_type": "markdown",
   "id": "6c1b22e5",
   "metadata": {},
   "source": [
    "### Q4. Implement a search-and-replace function for a file"
   ]
  },
  {
   "cell_type": "code",
   "execution_count": 58,
   "id": "8c75542b",
   "metadata": {},
   "outputs": [],
   "source": [
    "def search_and_replace(file_path, old_str, new_str):\n",
    "    with open(file_path, 'r') as file:\n",
    "        content = file.read()\n",
    "    content = content.replace(old_str, new_str)\n",
    "    with open(file_path, 'w') as file:\n",
    "        file.write(content)\n",
    "\n",
    "# search_and_replace('sample.txt', 'old', 'new')\n"
   ]
  },
  {
   "cell_type": "markdown",
   "id": "64cc4146",
   "metadata": {},
   "source": [
    "### Q5.Recursively scan a directory for .txt files and count words."
   ]
  },
  {
   "cell_type": "code",
   "execution_count": 59,
   "id": "5724bb97",
   "metadata": {},
   "outputs": [],
   "source": [
    "import os\n",
    "\n",
    "def count_words_in_txt_files(directory):\n",
    "    total_words = 0\n",
    "    for root, _, files in os.walk(directory):\n",
    "        for file in files:\n",
    "            if file.endswith('.txt'):\n",
    "                with open(os.path.join(root, file)) as f:\n",
    "                    total_words += len(f.read().split())\n",
    "    return total_words\n",
    "\n",
    "# print(count_words_in_txt_files(\".\"))\n"
   ]
  },
  {
   "cell_type": "markdown",
   "id": "330fa698",
   "metadata": {},
   "source": [
    "### Q6.Write a divide_safely(a, b) function with exception handling."
   ]
  },
  {
   "cell_type": "code",
   "execution_count": 60,
   "id": "d3150eee",
   "metadata": {},
   "outputs": [],
   "source": [
    "def divide_safely(a, b):\n",
    "    try:\n",
    "        return a / b\n",
    "    except ZeroDivisionError:\n",
    "        return \"Error: Division by zero!\"\n",
    "    except TypeError:\n",
    "        return \"Error: Invalid types for division!\"\n",
    "\n",
    "# print(divide_safely(10, 0))\n"
   ]
  },
  {
   "cell_type": "markdown",
   "id": "8bd67d95",
   "metadata": {},
   "source": [
    "### Q7.Create a context manager FileOpener."
   ]
  },
  {
   "cell_type": "code",
   "execution_count": 61,
   "id": "ac203089",
   "metadata": {},
   "outputs": [],
   "source": [
    "class FileOpener:\n",
    "    def __init__(self, filename):\n",
    "        self.filename = filename\n",
    "    def __enter__(self):\n",
    "        self.file = open(self.filename, 'r')\n",
    "        return self.file\n",
    "    def __exit__(self, exc_type, exc_val, exc_tb):\n",
    "        self.file.close()\n",
    "\n",
    "# with FileOpener('file.txt') as f:\n",
    "#     print(f.read())\n"
   ]
  },
  {
   "cell_type": "markdown",
   "id": "d6a583f9",
   "metadata": {},
   "source": [
    "### Q8.Prompt for a filename, try to open it, create if missing."
   ]
  },
  {
   "cell_type": "code",
   "execution_count": 62,
   "id": "ff43e4f5",
   "metadata": {},
   "outputs": [],
   "source": [
    "def open_file(filename):\n",
    "    try:\n",
    "        with open(filename, 'r') as f:\n",
    "            print(f.read())\n",
    "    except FileNotFoundError:\n",
    "        with open(filename, 'w') as f:\n",
    "            f.write('')\n",
    "        print(\"File created.\")\n",
    "\n",
    "# open_file('newfile.txt')\n"
   ]
  },
  {
   "cell_type": "markdown",
   "id": "5c51b340",
   "metadata": {},
   "source": [
    "### Q9.Read integer from file and log ValueError if invalid."
   ]
  },
  {
   "cell_type": "code",
   "execution_count": 63,
   "id": "b689f41e",
   "metadata": {},
   "outputs": [],
   "source": [
    "def read_integer(filename):\n",
    "    try:\n",
    "        with open(filename, 'r') as f:\n",
    "            value = int(f.read())\n",
    "            print(f\"Read integer: {value}\")\n",
    "    except ValueError:\n",
    "        with open('errors.log', 'a') as err:\n",
    "            err.write(f\"ValueError: invalid integer in {filename}\\n\")\n",
    "\n",
    "# read_integer('input.txt')\n"
   ]
  },
  {
   "cell_type": "code",
   "execution_count": 64,
   "id": "eca01620",
   "metadata": {},
   "outputs": [
    {
     "name": "stdout",
     "output_type": "stream",
     "text": [
      "['__builtins__', '__cached__', '__doc__', '__file__', '__loader__', '__name__', '__package__', '__spec__']\n"
     ]
    }
   ],
   "source": [
    "from math_utils import stats\n",
    "\n",
    "# Check if 'mean' is available in the 'stats' module\n",
    "print(dir(stats))  # This will list all the attributes of the stats module\n"
   ]
  },
  {
   "cell_type": "markdown",
   "id": "82242eab",
   "metadata": {},
   "source": [
    "### Q10.Create a package with stats.py and geometry.py."
   ]
  },
  {
   "cell_type": "code",
   "execution_count": null,
   "id": "09fb87bf",
   "metadata": {},
   "outputs": [
    {
     "ename": "AttributeError",
     "evalue": "module 'math_utils.geometry' has no attribute 'area_rectangle'",
     "output_type": "error",
     "traceback": [
      "\u001b[31m---------------------------------------------------------------------------\u001b[39m",
      "\u001b[31mAttributeError\u001b[39m                            Traceback (most recent call last)",
      "\u001b[36mCell\u001b[39m\u001b[36m \u001b[39m\u001b[32mIn[65]\u001b[39m\u001b[32m, line 4\u001b[39m\n\u001b[32m      1\u001b[39m \u001b[38;5;28;01mfrom\u001b[39;00m\u001b[38;5;250m \u001b[39m\u001b[34;01mmath_utils\u001b[39;00m\u001b[38;5;250m \u001b[39m\u001b[38;5;28;01mimport\u001b[39;00m stats, geometry\n\u001b[32m      3\u001b[39m \u001b[38;5;66;03m#print(stats.mean([1, 2, 3]))\u001b[39;00m\n\u001b[32m----> \u001b[39m\u001b[32m4\u001b[39m \u001b[38;5;28mprint\u001b[39m(\u001b[43mgeometry\u001b[49m\u001b[43m.\u001b[49m\u001b[43marea_rectangle\u001b[49m(\u001b[32m5\u001b[39m, \u001b[32m2\u001b[39m))\n",
      "\u001b[31mAttributeError\u001b[39m: module 'math_utils.geometry' has no attribute 'area_rectangle'"
     ]
    }
   ],
   "source": [
    "from math_utils import stats, geometry\n",
    "\n",
    "print(stats.mean([1, 2, 3]))\n",
    "print(geometry.area_rectangle(5, 2))\n"
   ]
  },
  {
   "cell_type": "markdown",
   "id": "6f31118c",
   "metadata": {},
   "source": [
    "### Q11.Dynamically import module and call a function."
   ]
  },
  {
   "cell_type": "code",
   "execution_count": null,
   "id": "2bc9a255",
   "metadata": {},
   "outputs": [],
   "source": [
    "def dynamic_import_and_call(a, b):\n",
    "    try:\n",
    "        import operations\n",
    "        return operations.add(a, b)\n",
    "    except ImportError:\n",
    "        return \"Module not found.\"\n",
    "\n",
    "# dynamic_import_and_call(2, 3)\n"
   ]
  },
  {
   "cell_type": "markdown",
   "id": "320975ab",
   "metadata": {},
   "source": [
    "### Q12.Replace negative values in NumPy array with mean of positives."
   ]
  },
  {
   "cell_type": "code",
   "execution_count": null,
   "id": "4596a5e1",
   "metadata": {},
   "outputs": [],
   "source": [
    "import numpy as np\n",
    "\n",
    "def replace_negatives_with_mean(arr):\n",
    "    positive_vals = arr[arr > 0]\n",
    "    mean_val = positive_vals.mean()\n",
    "    arr[arr < 0] = mean_val\n",
    "    return arr\n",
    "\n",
    "# arr = np.array([[1, -2], [-3, 4]])\n",
    "# print(replace_negatives_with_mean(arr))\n"
   ]
  },
  {
   "cell_type": "markdown",
   "id": "1799563b",
   "metadata": {},
   "source": [
    "### Q13.Convert image to grayscale using NumPy."
   ]
  },
  {
   "cell_type": "code",
   "execution_count": null,
   "id": "fed6a6fd",
   "metadata": {},
   "outputs": [],
   "source": [
    "from PIL import Image\n",
    "import numpy as np\n",
    "\n",
    "\n",
    "def convert_to_grayscale(image_path):\n",
    "    img = Image.open(image_path)\n",
    "    arr = np.array(img)\n",
    "    grayscale = 0.2989 * arr[:, :, 0] + 0.5870 * arr[:, :, 1] + 0.1140 * arr[:, :, 2]\n",
    "    return grayscale\n",
    "\n",
    "# grayscale_array = convert_to_grayscale(\"image.jpg\")\n"
   ]
  },
  {
   "cell_type": "markdown",
   "id": "b2f34f10",
   "metadata": {},
   "source": [
    "### Q14.Create a 5x5 NumPy array with specific diagonal values."
   ]
  },
  {
   "cell_type": "code",
   "execution_count": null,
   "id": "8e86c38c",
   "metadata": {},
   "outputs": [],
   "source": [
    "import numpy as np\n",
    "\n",
    "def create_custom_array():\n",
    "    arr = np.zeros((5, 5), dtype=int)\n",
    "    np.fill_diagonal(arr, 1)\n",
    "    for i in range(4):\n",
    "        arr[i, i+1] = 2\n",
    "    return arr\n",
    "\n",
    "# print(create_custom_array())\n"
   ]
  }
 ],
 "metadata": {
  "kernelspec": {
   "display_name": "Python 3",
   "language": "python",
   "name": "python3"
  },
  "language_info": {
   "codemirror_mode": {
    "name": "ipython",
    "version": 3
   },
   "file_extension": ".py",
   "mimetype": "text/x-python",
   "name": "python",
   "nbconvert_exporter": "python",
   "pygments_lexer": "ipython3",
   "version": "3.13.2"
  }
 },
 "nbformat": 4,
 "nbformat_minor": 5
}
