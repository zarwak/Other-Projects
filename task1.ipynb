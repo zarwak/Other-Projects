{
 "cells": [
  {
   "cell_type": "markdown",
   "metadata": {},
   "source": [
    "QUESTION :1\n",
    "Write a Python function called recursive_factorial that calculates the factorial of a number using recursion. Ensure it handles edge cases like negative numbers and zero."
   ]
  },
  {
   "cell_type": "code",
   "execution_count": 2,
   "metadata": {},
   "outputs": [
    {
     "name": "stdout",
     "output_type": "stream",
     "text": [
      "120\n",
      "1\n",
      "Factorial not defined\n"
     ]
    }
   ],
   "source": [
    "# recursive function for factorial calculation \n",
    "def factorial(n):\n",
    "    if n < 0:       #edge case handling for negative nums\n",
    "        return \"Factorial not defined\"\n",
    "    elif n==1 or n==0:  #base case\n",
    "        return 1\n",
    "    else:\n",
    "        return n*factorial(n-1) #recursive call\n",
    "print(factorial(5))   # Output: 120\n",
    "print(factorial(0))   # Output: 1\n",
    "print(factorial(-3))  # Output: Factorial not defined"
   ]
  },
  {
   "cell_type": "markdown",
   "metadata": {},
   "source": [
    "QUESTION :2\n",
    "Write a Python program to generate the first 10 prime numbers using a while loop and conditions. Optimize the solution to skip even numbers after 2."
   ]
  },
  {
   "cell_type": "code",
   "execution_count": 3,
   "metadata": {},
   "outputs": [
    {
     "name": "stdout",
     "output_type": "stream",
     "text": [
      "[2, 3, 5, 7, 11, 13, 17, 19, 23, 29]\n"
     ]
    }
   ],
   "source": [
    "# Check if a number is prime\n",
    "def is_prime(n):\n",
    "    if n == 2:  # 2 is prime\n",
    "        return True\n",
    "    if n % 2 == 0 or n < 2:  # Eliminate evens and numbers < 2\n",
    "        return False\n",
    "    i = 3\n",
    "    while i < int(n**0.5) + 1:  # Check divisibility up to sqrt(n)\n",
    "        if n % i == 0:  # If divisible, not prime\n",
    "            return False\n",
    "        i += 2  # Skip even numbers\n",
    "    return True  # Prime number\n",
    "\n",
    "# Generate first 'n' prime numbers\n",
    "def generate_primes(n):\n",
    "    c = 0  # Prime count\n",
    "    i = 2  # Start from first prime\n",
    "    primes = []  # List of primes\n",
    "\n",
    "    while c < n:  # Find 'n' primes\n",
    "        if is_prime(i):  \n",
    "            primes.append(i)  \n",
    "            c += 1  # Increase count\n",
    "        i += 1  # Next number\n",
    "        \n",
    "    return primes  # Return list of primes\n",
    "\n",
    "# Print first 10 prime numbers\n",
    "print(generate_primes(10))  # Output: [2, 3, 5, 7, 11, 13, 17, 19, 23, 29]"
   ]
  },
  {
   "cell_type": "markdown",
   "metadata": {},
   "source": [
    "QUESTION: 3\n",
    "Write a Python program to find the longest substring without repeating characters in a given string. For example, for the input \"abcabcbb\", the output should be \"abc\"."
   ]
  },
  {
   "cell_type": "code",
   "execution_count": 4,
   "metadata": {},
   "outputs": [
    {
     "name": "stdout",
     "output_type": "stream",
     "text": [
      "abc\n",
      "b\n",
      "wke\n"
     ]
    }
   ],
   "source": [
    "def longest_substring(string):\n",
    "    is_unique = set()  # Set to track unique characters\n",
    "    i = 0  # Right pointer\n",
    "    j = 0  # Left pointer\n",
    "    longest = \"\"  # Store longest substring\n",
    "\n",
    "    while i < len(string):\n",
    "        if string[i] not in is_unique:\n",
    "            is_unique.add(string[i])  # Add unique character\n",
    "            if len(is_unique) > len(longest):  # Update longest substring\n",
    "                longest = string[j:i+1]\n",
    "            i += 1  # Move right pointer\n",
    "        else:\n",
    "            is_unique.remove(string[j])  # Remove leftmost character\n",
    "            j += 1  # Move left pointer\n",
    "\n",
    "    return longest  # Return longest substring\n",
    "\n",
    "# Example usage:\n",
    "print(longest_substring(\"abcabcbb\"))  # Output: \"abc\"\n",
    "print(longest_substring(\"bbbbb\"))     # Output: \"b\"\n",
    "print(longest_substring(\"pwwkew\"))    # Output: \"wke\""
   ]
  },
  {
   "cell_type": "markdown",
   "metadata": {},
   "source": [
    "QUESTION:4\n",
    "Use a lambda function to sort a list of dictionaries by a specific key. For example, sort the list [{\"name\": \"Alice\", \"age\": 25}, {\"name\": \"Bob\", \"age\": 30}] by the \"age\" key."
   ]
  },
  {
   "cell_type": "code",
   "execution_count": 5,
   "metadata": {},
   "outputs": [
    {
     "name": "stdout",
     "output_type": "stream",
     "text": [
      "[{'name': 'Alice', 'age': 25}, {'name': 'Bob', 'age': 30}]\n"
     ]
    }
   ],
   "source": [
    "data = [{\"name\": \"Alice\", \"age\": 25}, {\"name\": \"Bob\", \"age\": 30}]\n",
    "\n",
    "# Sort by \"age\" key using a lambda function\n",
    "sorted_data = sorted(data, key=lambda x: x[\"age\"])\n",
    "\n",
    "print(sorted_data)"
   ]
  },
  {
   "cell_type": "markdown",
   "metadata": {},
   "source": [
    "QYESION:5\n",
    "Write a lambda funcTIon that takes three arguments (x, y, z) and returns the sum of x and y if z is True, otherwise returns the product of x and y."
   ]
  },
  {
   "cell_type": "code",
   "execution_count": 6,
   "metadata": {},
   "outputs": [
    {
     "name": "stdout",
     "output_type": "stream",
     "text": [
      "7\n",
      "12\n"
     ]
    }
   ],
   "source": [
    "func = lambda x, y, z: x + y if z else x * y\n",
    "\n",
    "# Example usage:\n",
    "print(func(3, 4, True))   # Output: 7 \n",
    "print(func(3, 4, False))  # Output: 12"
   ]
  },
  {
   "cell_type": "markdown",
   "metadata": {},
   "source": [
    "QUESTION:5\n",
    "Use the map() function to convert a list of temperatures in Celsius [0, 10, 20, 30, 40] to Fahrenheit using the formula F = (C * 9/5) + 32."
   ]
  },
  {
   "cell_type": "code",
   "execution_count": 7,
   "metadata": {},
   "outputs": [
    {
     "name": "stdout",
     "output_type": "stream",
     "text": [
      "[32.0, 50.0, 68.0, 86.0, 104.0]\n"
     ]
    }
   ],
   "source": [
    "# List of temperatures in Celsius\n",
    "celsius = [0, 10, 20, 30, 40]\n",
    "\n",
    "# Convert to Fahrenheit using map() and lambda\n",
    "fahrenheit = list(map(lambda c: (c * 9/5) + 32, celsius))\n",
    "\n",
    "# Print the converted list\n",
    "print(fahrenheit)"
   ]
  },
  {
   "cell_type": "markdown",
   "metadata": {},
   "source": [
    "QUESTION 7:\n",
    "Use the filter() function to extract all palindromic numbers from a list of integers. For example, from [121, 123, 1331, 456], the output should be [121, 1331]."
   ]
  },
  {
   "cell_type": "code",
   "execution_count": 8,
   "metadata": {},
   "outputs": [
    {
     "name": "stdout",
     "output_type": "stream",
     "text": [
      "[121, 1331]\n"
     ]
    }
   ],
   "source": [
    "# List of integers\n",
    "numbers = [121, 123, 1331, 456]\n",
    "\n",
    "# Filter palindromic numbers using filter() and lambda\n",
    "palindromes = list(filter(lambda x: str(x) == str(x)[::-1], numbers))\n",
    "\n",
    "# Print the result\n",
    "print(palindromes)"
   ]
  },
  {
   "cell_type": "markdown",
   "metadata": {},
   "source": [
    "QUESTION:8\n",
    "Use the reduce() function to find the greatest common divisor (GCD) of a list of numbers. For example, for the list [24, 36, 48], the GCD is 12."
   ]
  },
  {
   "cell_type": "code",
   "execution_count": 9,
   "metadata": {},
   "outputs": [
    {
     "name": "stdout",
     "output_type": "stream",
     "text": [
      "12\n"
     ]
    }
   ],
   "source": [
    "from functools import reduce\n",
    "import math\n",
    "\n",
    "# List of numbers\n",
    "numbers = [24, 36, 48]\n",
    "\n",
    "# Use reduce() to find the GCD of the list\n",
    "gcd_result = reduce(math.gcd, numbers)\n",
    "\n",
    "# Print the result\n",
    "print(gcd_result)"
   ]
  },
  {
   "cell_type": "markdown",
   "metadata": {},
   "source": [
    "QUESTION:9\n",
    "Write a Python funcTion called recursive_power that calculates the power of a number using recursion. For example, recursive_power(2, 3) should return 8. Optimize it to handle negative exponents."
   ]
  },
  {
   "cell_type": "code",
   "execution_count": 10,
   "metadata": {},
   "outputs": [
    {
     "name": "stdout",
     "output_type": "stream",
     "text": [
      "8\n",
      "0.04\n",
      "1\n"
     ]
    }
   ],
   "source": [
    "def recursive_power(base, exp):\n",
    "    # Base case: Any number raised to the power of 0 is 1\n",
    "    if exp == 0:\n",
    "        return 1\n",
    "    # Handle negative exponent by converting it to positive and taking reciprocal\n",
    "    if exp < 0:\n",
    "        return 1 / recursive_power(base, -exp)\n",
    "    # Recursive step: Multiply base with the result of smaller exponent\n",
    "    return base * recursive_power(base, exp - 1)\n",
    "\n",
    "# Example usage\n",
    "print(recursive_power(2, 3))   # Output: 8\n",
    "print(recursive_power(5, -2))  # Output: 0.04 \n",
    "print(recursive_power(3, 0))   # Output: 1"
   ]
  }
 ],
 "metadata": {
  "kernelspec": {
   "display_name": "Python 3",
   "language": "python",
   "name": "python3"
  },
  "language_info": {
   "codemirror_mode": {
    "name": "ipython",
    "version": 3
   },
   "file_extension": ".py",
   "mimetype": "text/x-python",
   "name": "python",
   "nbconvert_exporter": "python",
   "pygments_lexer": "ipython3",
   "version": "3.12.5"
  }
 },
 "nbformat": 4,
 "nbformat_minor": 2
}
